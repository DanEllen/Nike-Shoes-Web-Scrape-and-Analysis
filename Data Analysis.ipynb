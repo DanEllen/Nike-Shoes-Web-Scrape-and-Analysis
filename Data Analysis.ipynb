{
 "cells": [
  {
   "cell_type": "markdown",
   "metadata": {},
   "source": [
    "# Nike Shoes Analysis\n",
    "### Data: Scrapped products, characteristics, descriptions, ratings, and reviews of the shoes section of the Nike website for both male and female products. Acquired data on over 1,200 products and more than 30 thousand reviews.\n",
    "### Objective: To understand the product offering of Nike, its composition in terms of quantity, price and type of products. As well as, to understand it's perceived strengths, weaknesses, and how it delivers value to its clients."
   ]
  },
  {
   "cell_type": "markdown",
   "metadata": {},
   "source": [
    "## Install Required Packages"
   ]
  },
  {
   "cell_type": "markdown",
   "metadata": {},
   "source": [
    "- Open **Terminal/Anaconda Prompt**, cd to the project and run the following command:\n",
    " - `pip install -r requirements.txt`\n",
    "\n",
    "- After installing all the required packages, run the following command:\n",
    " - `python -m textblob.download_corpora`\n",
    " \n",
    "- Restart this jupyter notebook."
   ]
  },
  {
   "cell_type": "markdown",
   "metadata": {},
   "source": [
    "## Importing Data and Cleaning"
   ]
  },
  {
   "cell_type": "code",
   "execution_count": 133,
   "metadata": {
    "scrolled": true
   },
   "outputs": [],
   "source": [
    "# Import libraries to be used\n",
    "\n",
    "import pandas as pd\n",
    "import numpy as np\n",
    "from matplotlib import pyplot as plt\n",
    "plt.style.use('ggplot')\n",
    "import re\n",
    "\n",
    "# Getting all the data from the csv files and joining them\n",
    "\n",
    "df_men = pd.read_csv('./nike_shoes_men.csv', header=0, error_bad_lines = False, quotechar='\"')\n",
    "df_woman0 = pd.read_csv('./nike_shoes_woman0.csv', header=0, error_bad_lines = False, quotechar='\"')\n",
    "df_woman1 = pd.read_csv('./nike_shoes_woman1.csv', header=0, error_bad_lines = False, quotechar='\"')\n",
    "\n",
    "df = pd.concat([df_men, df_woman0, df_woman1])\n"
   ]
  },
  {
   "cell_type": "code",
   "execution_count": 137,
   "metadata": {},
   "outputs": [
    {
     "data": {
      "text/html": [
       "<div>\n",
       "<style scoped>\n",
       "    .dataframe tbody tr th:only-of-type {\n",
       "        vertical-align: middle;\n",
       "    }\n",
       "\n",
       "    .dataframe tbody tr th {\n",
       "        vertical-align: top;\n",
       "    }\n",
       "\n",
       "    .dataframe thead th {\n",
       "        text-align: right;\n",
       "    }\n",
       "</style>\n",
       "<table border=\"1\" class=\"dataframe\">\n",
       "  <thead>\n",
       "    <tr style=\"text-align: right;\">\n",
       "      <th></th>\n",
       "      <th>id_</th>\n",
       "      <th>gender</th>\n",
       "      <th>title</th>\n",
       "      <th>url</th>\n",
       "      <th>category</th>\n",
       "      <th>price</th>\n",
       "      <th>description</th>\n",
       "      <th>description_long</th>\n",
       "      <th>n_reviews</th>\n",
       "      <th>score</th>\n",
       "      <th>size</th>\n",
       "      <th>comfort</th>\n",
       "      <th>durability</th>\n",
       "      <th>r_title</th>\n",
       "      <th>r_raiting</th>\n",
       "      <th>r_body</th>\n",
       "      <th>r_date</th>\n",
       "    </tr>\n",
       "  </thead>\n",
       "  <tbody>\n",
       "  </tbody>\n",
       "</table>\n",
       "</div>"
      ],
      "text/plain": [
       "Empty DataFrame\n",
       "Columns: [id_, gender, title, url, category, price, description, description_long, n_reviews, score, size, comfort, durability, r_title, r_raiting, r_body, r_date]\n",
       "Index: []"
      ]
     },
     "execution_count": 137,
     "metadata": {},
     "output_type": "execute_result"
    }
   ],
   "source": [
    "df[df['size'].str.contains('[A-Za-z]', na=False)]"
   ]
  },
  {
   "cell_type": "code",
   "execution_count": 138,
   "metadata": {},
   "outputs": [],
   "source": [
    "# Replace slider values that are not correct\n",
    "df = df.replace('[A-Za-z]', value = {\"size\" : None, \"comfort\" : None, \"durability\" : None}, regex=True)"
   ]
  },
  {
   "cell_type": "code",
   "execution_count": 160,
   "metadata": {
    "scrolled": false
   },
   "outputs": [
    {
     "name": "stdout",
     "output_type": "stream",
     "text": [
      "(35960, 17)\n",
      "id_                          int64\n",
      "gender                    category\n",
      "title                       object\n",
      "url                         object\n",
      "category                  category\n",
      "price                      float64\n",
      "description                 object\n",
      "description_long            object\n",
      "n_reviews                  float64\n",
      "score                      float64\n",
      "size                       float64\n",
      "comfort                    float64\n",
      "durability                 float64\n",
      "r_title                     object\n",
      "r_raiting                  float64\n",
      "r_body                      object\n",
      "r_date              datetime64[ns]\n",
      "dtype: object\n"
     ]
    },
    {
     "data": {
      "text/html": [
       "<div>\n",
       "<style scoped>\n",
       "    .dataframe tbody tr th:only-of-type {\n",
       "        vertical-align: middle;\n",
       "    }\n",
       "\n",
       "    .dataframe tbody tr th {\n",
       "        vertical-align: top;\n",
       "    }\n",
       "\n",
       "    .dataframe thead th {\n",
       "        text-align: right;\n",
       "    }\n",
       "</style>\n",
       "<table border=\"1\" class=\"dataframe\">\n",
       "  <thead>\n",
       "    <tr style=\"text-align: right;\">\n",
       "      <th></th>\n",
       "      <th>id_</th>\n",
       "      <th>price</th>\n",
       "      <th>n_reviews</th>\n",
       "      <th>score</th>\n",
       "      <th>size</th>\n",
       "      <th>comfort</th>\n",
       "      <th>durability</th>\n",
       "      <th>r_raiting</th>\n",
       "    </tr>\n",
       "  </thead>\n",
       "  <tbody>\n",
       "    <tr>\n",
       "      <td>count</td>\n",
       "      <td>35960.000000</td>\n",
       "      <td>35950.000000</td>\n",
       "      <td>35519.000000</td>\n",
       "      <td>35519.000000</td>\n",
       "      <td>35138.000000</td>\n",
       "      <td>35138.000000</td>\n",
       "      <td>35138.000000</td>\n",
       "      <td>35519.000000</td>\n",
       "    </tr>\n",
       "    <tr>\n",
       "      <td>mean</td>\n",
       "      <td>387.172442</td>\n",
       "      <td>102.204256</td>\n",
       "      <td>438.456347</td>\n",
       "      <td>4.587212</td>\n",
       "      <td>47.497083</td>\n",
       "      <td>85.052365</td>\n",
       "      <td>73.543557</td>\n",
       "      <td>4.585715</td>\n",
       "    </tr>\n",
       "    <tr>\n",
       "      <td>std</td>\n",
       "      <td>209.561510</td>\n",
       "      <td>50.799157</td>\n",
       "      <td>582.444342</td>\n",
       "      <td>0.279373</td>\n",
       "      <td>11.031876</td>\n",
       "      <td>10.063183</td>\n",
       "      <td>13.583633</td>\n",
       "      <td>0.900332</td>\n",
       "    </tr>\n",
       "    <tr>\n",
       "      <td>min</td>\n",
       "      <td>1.000000</td>\n",
       "      <td>21.000000</td>\n",
       "      <td>1.000000</td>\n",
       "      <td>1.000000</td>\n",
       "      <td>14.500000</td>\n",
       "      <td>25.000000</td>\n",
       "      <td>20.000000</td>\n",
       "      <td>1.000000</td>\n",
       "    </tr>\n",
       "    <tr>\n",
       "      <td>25%</td>\n",
       "      <td>193.000000</td>\n",
       "      <td>65.000000</td>\n",
       "      <td>57.000000</td>\n",
       "      <td>4.500000</td>\n",
       "      <td>41.500000</td>\n",
       "      <td>80.000000</td>\n",
       "      <td>68.000000</td>\n",
       "      <td>5.000000</td>\n",
       "    </tr>\n",
       "    <tr>\n",
       "      <td>50%</td>\n",
       "      <td>415.000000</td>\n",
       "      <td>90.000000</td>\n",
       "      <td>183.000000</td>\n",
       "      <td>4.600000</td>\n",
       "      <td>48.500000</td>\n",
       "      <td>86.000000</td>\n",
       "      <td>76.000000</td>\n",
       "      <td>5.000000</td>\n",
       "    </tr>\n",
       "    <tr>\n",
       "      <td>75%</td>\n",
       "      <td>552.000000</td>\n",
       "      <td>125.000000</td>\n",
       "      <td>652.000000</td>\n",
       "      <td>4.800000</td>\n",
       "      <td>54.000000</td>\n",
       "      <td>93.000000</td>\n",
       "      <td>83.500000</td>\n",
       "      <td>5.000000</td>\n",
       "    </tr>\n",
       "    <tr>\n",
       "      <td>max</td>\n",
       "      <td>739.000000</td>\n",
       "      <td>400.000000</td>\n",
       "      <td>2298.000000</td>\n",
       "      <td>5.000000</td>\n",
       "      <td>100.000000</td>\n",
       "      <td>100.000000</td>\n",
       "      <td>100.000000</td>\n",
       "      <td>5.000000</td>\n",
       "    </tr>\n",
       "  </tbody>\n",
       "</table>\n",
       "</div>"
      ],
      "text/plain": [
       "                id_         price     n_reviews         score          size  \\\n",
       "count  35960.000000  35950.000000  35519.000000  35519.000000  35138.000000   \n",
       "mean     387.172442    102.204256    438.456347      4.587212     47.497083   \n",
       "std      209.561510     50.799157    582.444342      0.279373     11.031876   \n",
       "min        1.000000     21.000000      1.000000      1.000000     14.500000   \n",
       "25%      193.000000     65.000000     57.000000      4.500000     41.500000   \n",
       "50%      415.000000     90.000000    183.000000      4.600000     48.500000   \n",
       "75%      552.000000    125.000000    652.000000      4.800000     54.000000   \n",
       "max      739.000000    400.000000   2298.000000      5.000000    100.000000   \n",
       "\n",
       "            comfort    durability     r_raiting  \n",
       "count  35138.000000  35138.000000  35519.000000  \n",
       "mean      85.052365     73.543557      4.585715  \n",
       "std       10.063183     13.583633      0.900332  \n",
       "min       25.000000     20.000000      1.000000  \n",
       "25%       80.000000     68.000000      5.000000  \n",
       "50%       86.000000     76.000000      5.000000  \n",
       "75%       93.000000     83.500000      5.000000  \n",
       "max      100.000000    100.000000      5.000000  "
      ]
     },
     "execution_count": 160,
     "metadata": {},
     "output_type": "execute_result"
    }
   ],
   "source": [
    "# Converting certain columns data types to correct category\n",
    "\n",
    "df = df.astype({\"gender\": 'category', 'category': 'category',\n",
    "                \"size\": 'float64', 'comfort': 'float64', 'durability': 'float64', 'r_date' : 'datetime64'})\n",
    "\n",
    "print(df.shape)\n",
    "print(df.dtypes)\n",
    "df.describe()"
   ]
  },
  {
   "cell_type": "markdown",
   "metadata": {},
   "source": [
    "## Handling missing values"
   ]
  },
  {
   "cell_type": "code",
   "execution_count": 190,
   "metadata": {},
   "outputs": [
    {
     "data": {
      "text/plain": [
       "id_                    0\n",
       "gender                 0\n",
       "title                  0\n",
       "url                    0\n",
       "category               0\n",
       "price                  0\n",
       "description            0\n",
       "description_long     136\n",
       "n_reviews            431\n",
       "score                431\n",
       "size                 812\n",
       "comfort              812\n",
       "durability           812\n",
       "r_title             2309\n",
       "r_raiting            431\n",
       "r_body               431\n",
       "r_date               431\n",
       "dtype: int64"
      ]
     },
     "execution_count": 190,
     "metadata": {},
     "output_type": "execute_result"
    }
   ],
   "source": [
    "# Getting an idea of where the missing values are\n",
    "\n",
    "df.isnull().sum()"
   ]
  },
  {
   "cell_type": "markdown",
   "metadata": {},
   "source": [
    "#### There are 10 items that could not be scraped correctly because the HTML formating on the page changed. Also some items don't have long descriptions, reviews, a size/comfort/durability slider result.\n",
    "#### We should drop the 10 items out of the list because they won't provide any value, its a small part of the total of over 1,200 products. Also the other missing values are correct because they are not present in the product page, not all fields have information in the product page."
   ]
  },
  {
   "cell_type": "code",
   "execution_count": 189,
   "metadata": {},
   "outputs": [],
   "source": [
    "df = df[df['title'].notna()]"
   ]
  },
  {
   "cell_type": "code",
   "execution_count": null,
   "metadata": {},
   "outputs": [],
   "source": []
  }
 ],
 "metadata": {
  "kernelspec": {
   "display_name": "Python 3",
   "language": "python",
   "name": "python3"
  },
  "language_info": {
   "codemirror_mode": {
    "name": "ipython",
    "version": 3
   },
   "file_extension": ".py",
   "mimetype": "text/x-python",
   "name": "python",
   "nbconvert_exporter": "python",
   "pygments_lexer": "ipython3",
   "version": "3.7.4"
  }
 },
 "nbformat": 4,
 "nbformat_minor": 2
}
